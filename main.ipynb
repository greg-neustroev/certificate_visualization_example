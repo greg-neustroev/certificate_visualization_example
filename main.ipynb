{
 "cells": [
  {
   "cell_type": "markdown",
   "id": "4cf2feb5",
   "metadata": {},
   "source": [
    "# Supermartingale Example\n",
    "\n",
    "This notebook explains the concept of supermartingale certificates using the pendulum example. In this example, the system follows the following stochastic differential equation:\n",
    "\n",
    "$$\n",
    "\\begin{align}\n",
    "d \\phi_t &= \\Bigl(\\frac{g}{l}\\sin \\theta_t + \\frac{M u_t - b \\phi_t}{ml^2}\\Bigr)\\,d t + \\sigma\\,d W_t\\\\\n",
    "d \\theta_t &= \\phi_t\\,d t\n",
    "\\end{align}\n",
    "$$\n",
    "\n",
    "where\n",
    "\n",
    "- $\\phi_t$ is the angular velocity of the pendulum,\n",
    "- $\\theta_t$ is the angle between the pendulum and the ordinate (i.e., vertical) axis,\n",
    "- $u_t$ is the control signal (between -1 and 1) that applies extra torque to the pendulum,\n",
    "- $M$ is the maximum torque (i.e., the scaling factor for the contol signal),\n",
    "- $g$ is the gravitational constant,\n",
    "- $l$ is the pendulum length,\n",
    "- $m$ is the pendulum mass,\n",
    "- $b$ is the friction coefficient,\n",
    "- $\\sigma$ is the random disturbance scale,\n",
    "- $W_t$ is a Wiener (i.e., random Brownian) process that creates the disturbances.\n",
    "\n",
    "The pendulum is controlled by a neural network and our goal is to certify that the resulting behavior adheres to a certain specification (defined later). This is done by producing a certificate, which is a function that satisfies certain properties. The existance of such a function is a proof that the system complies with the specification.\n",
    "\n",
    "In this example, we use a pre-trained control policy and a cerfiticate. Both are given by neural networks."
   ]
  },
  {
   "cell_type": "markdown",
   "id": "4a41f351",
   "metadata": {},
   "source": [
    "## Loading the Neural Networks\n",
    "\n",
    "We begin with defining two simple neural network architectures. The theoretical results require that the networks are twice continuously differentiable, so we use hyperbolic tangent activations. For the certificate, we also need non-negativity, so it has an extra softplus at the end for that."
   ]
  },
  {
   "cell_type": "code",
   "execution_count": 1,
   "id": "3f5663b8",
   "metadata": {},
   "outputs": [],
   "source": [
    "import torch\n",
    "from torch import nn\n",
    "\n",
    "class TanhPolicy(nn.Sequential):\n",
    "    \"\"\"\n",
    "    A policy with three layers and tanh activations between them.\n",
    "    \"\"\"\n",
    "\n",
    "    def __init__(\n",
    "        self,\n",
    "        n_in: int = 2,\n",
    "        n_out: int = 1,\n",
    "        n_hidden: int = 64,\n",
    "        device: torch.device | str = \"cpu\"\n",
    "    ):\n",
    "        super().__init__(\n",
    "            nn.Linear(n_in, n_hidden, dtype=torch.float32, device=device),\n",
    "            nn.Tanh(),\n",
    "            nn.Linear(n_hidden, n_hidden, dtype=torch.float32, device=device),\n",
    "            nn.Tanh(),\n",
    "            nn.Linear(n_hidden, n_out, dtype=torch.float32, device=device),\n",
    "        )\n",
    "\n",
    "\n",
    "class CertificateModule(torch.nn.Sequential):\n",
    "    \"\"\"The RSA certificate\"\"\"\n",
    "\n",
    "    def __init__(\n",
    "        self,\n",
    "        n_in: int = 2,\n",
    "        n_out: int = 1,\n",
    "        n_hidden: int = 32,\n",
    "        device: torch.device | str = \"cpu\"\n",
    "    ):\n",
    "        super().__init__(\n",
    "            nn.Linear(n_in, n_hidden, dtype=torch.float32, device=device),\n",
    "            nn.Tanh(),\n",
    "            nn.Linear(n_hidden, n_hidden, dtype=torch.float32, device=device),\n",
    "            nn.Tanh(),\n",
    "            nn.Linear(n_hidden, n_out, dtype=torch.float32, device=device),\n",
    "            nn.Softplus()\n",
    "        )"
   ]
  },
  {
   "cell_type": "markdown",
   "id": "28677f05",
   "metadata": {},
   "source": [
    "Next, we load a policy that we have pre-trained and saved to `pendulum_policy.pt`. Similarly, we load a pre-trained certificate from `pendulum_certificate.pt`."
   ]
  },
  {
   "cell_type": "code",
   "execution_count": 2,
   "id": "7e11c9ca",
   "metadata": {},
   "outputs": [
    {
     "data": {
      "text/plain": [
       "<All keys matched successfully>"
      ]
     },
     "execution_count": 2,
     "metadata": {},
     "output_type": "execute_result"
    }
   ],
   "source": [
    "rl_policy_net = TanhPolicy(2, 1, 64, device=\"cpu\")\n",
    "rl_policy_net.load_state_dict(torch.load(\n",
    "    \"pendulum_policy.pt\",\n",
    "    map_location=\"cpu\",\n",
    "    weights_only=True\n",
    "))\n",
    "\n",
    "certificate_net = CertificateModule(2, 1, 32, device=\"cpu\")\n",
    "certificate_net.load_state_dict(torch.load(\n",
    "    \"pendulum_certificate.pt\",\n",
    "    map_location=\"cpu\",\n",
    "    weights_only=True\n",
    "))"
   ]
  },
  {
   "cell_type": "markdown",
   "id": "ab34354d",
   "metadata": {},
   "source": [
    "## Creating the Environment\n",
    "\n",
    "Next, we need to plug the controller (policy network) into the environment. The environemnt is defined with the equations given above, see `controlled_sde` for the implementation details. The controlled SDE class is used in training (skipped here) but can also be used for sampling, which we do need for plotting."
   ]
  },
  {
   "cell_type": "code",
   "execution_count": 3,
   "id": "cadb981a",
   "metadata": {},
   "outputs": [],
   "source": [
    "import controlled_sde\n",
    "\n",
    "sde = controlled_sde.InvertedPendulum(rl_policy_net)"
   ]
  },
  {
   "cell_type": "markdown",
   "id": "7e8aadd3",
   "metadata": {},
   "source": [
    "## Creating the Specification\n",
    "\n",
    "A reach-avoid-stay specification contains four sets and two constants:\n",
    "\n",
    "- The domain set $\\mathbb{X}$ to which the system is restricted.\n",
    "- The initial set $\\mathbb{X}_0$ where the system starts.\n",
    "- The target set $\\mathbb{X}_\\star$ that the system needs to reach.\n",
    "- The unsafe set $\\mathbb{X}_\\oslash$ that the system needs to avoid.\n",
    "- The reach-avoid probability, that is, the probability to reach the target $\\mathbb{X}_\\star$ from the initial set $\\mathbb{X}_\\star$ while avoiding the unsafe states $\\mathbb{X}_\\oslash$.\n",
    "- The stay probability of remaning in the target set $\\mathbb{X}_\\star$.\n",
    "\n",
    "We use axis-aligned bounding boxes (AABBs) in this example. We define a class to describe a set given by a union of AABBs. The probabilities are needed for verification, but are not used in plotting (yet) so we don't actually need them for this example and they are included for completness."
   ]
  },
  {
   "cell_type": "markdown",
   "id": "afcdf27c",
   "metadata": {},
   "source": [
    "Next, we create the boxes for the required sets. Each set is just a single AABB except for the unsafe set which is a union of two AABBs."
   ]
  },
  {
   "cell_type": "code",
   "execution_count": 4,
   "id": "4459e35b",
   "metadata": {},
   "outputs": [],
   "source": [
    "import numpy as np\n",
    "\n",
    "# set the boundaries of the sets\n",
    "global_bounds = np.array([[[-20.0, -2*np.pi], [20.0, 2*np.pi]]])\n",
    "initial_bounds = np.array([[[-1.0, 3/4*np.pi], [1.0, 5/4*np.pi]]])\n",
    "target_bounds = np.array([[[-4.0, -np.pi/2], [4.0, np.pi/2]]])\n",
    "unsafe_bounds = np.array([\n",
    "    [[-20.0, -2*np.pi], [-10.0, -3/2*np.pi]],\n",
    "    [[10.0, 3/2*np.pi], [20.0, 2*np.pi]]\n",
    "])"
   ]
  },
  {
   "cell_type": "markdown",
   "id": "4bb2a456",
   "metadata": {},
   "source": [
    "## Plotting\n",
    "\n",
    "This is a visualization that we used in the paper.\n",
    "\n",
    "We use simple colored boxes for the sets.\n",
    "\n",
    "For the trajectories of the system (sample paths) we use white lines. These are not actually used in training, but are very useful for visualization properties. They are typically hard to obtain, but luckily there is a `torchsde` library that allows us to find sample paths by using numerical methods such as stochastic Runge-Kutta.\n",
    "\n",
    "Finally, the certificate itself is visualized as a heatmap."
   ]
  },
  {
   "cell_type": "code",
   "execution_count": 5,
   "id": "2bf1bc0e",
   "metadata": {},
   "outputs": [
    {
     "data": {
      "image/png": "[encoded data removed]",
      "text/plain": [
       "<Figure size 640x480 with 2 Axes>"
      ]
     },
     "metadata": {},
     "output_type": "display_data"
    }
   ],
   "source": [
    "import matplotlib.pyplot as plt\n",
    "from matplotlib import colors\n",
    "from matplotlib.patches import Rectangle\n",
    "\n",
    "STARTING_ANGLE = torch.pi    # starting angle for plotting sample paths\n",
    "STARTING_SPEED = 0.0         # starting angular velocity\n",
    "DURATION = 6                 # seconds\n",
    "FPS = 200                    # frames per second\n",
    "T_SIZE = DURATION * FPS + 1  # number of time steps for each sample path\n",
    "\n",
    "# Initialize the batch of starting states all at the same point\n",
    "x0 = torch.tile(torch.tensor([[STARTING_SPEED, STARTING_ANGLE]],\n",
    "                             device=\"cpu\"), dims=(4, 1))\n",
    "# Initialize a time vector sampling at 200 Hz based on the FPS\n",
    "ts = torch.linspace(0, DURATION, T_SIZE, device=\"cpu\")\n",
    "\n",
    "# Sample paths at times `ts` each starting at `x0` using\n",
    "# stochastic Runge--Kutta method.\n",
    "sample_paths = sde.sample(x0, ts, method=\"srk\").squeeze()\n",
    "\n",
    "# Plot\n",
    "fig, ax1 = plt.subplots(1, 1)\n",
    "\n",
    "with torch.no_grad():\n",
    "    # create a grid of points to plot\n",
    "    grid = torch.stack(\n",
    "        torch.meshgrid(\n",
    "            torch.linspace(global_bounds[0, 0, 0],\n",
    "                           global_bounds[0, 1, 0], 101),\n",
    "            torch.linspace(global_bounds[0, 0, 1],\n",
    "                           global_bounds[0, 1, 1], 101),\n",
    "            indexing='xy'\n",
    "        )\n",
    "    )\n",
    "    grid = grid.reshape(2, -1).T\n",
    "\n",
    "    # evaluate the certificate on the grid points and reshape the output\n",
    "    out = certificate_net(grid).detach().numpy().reshape(101, 101)\n",
    "\n",
    "    # set levels for contour plot based on the data range\n",
    "    min_level = int(np.floor(np.log10(out.min()) * 5))\n",
    "    max_level = int(np.ceil(np.log10(out.max()) * 5)) + 1\n",
    "\n",
    "    # plot the certificate values as a contour plot\n",
    "    c = ax1.contourf(\n",
    "        np.linspace(global_bounds[0, 0, 0], global_bounds[0, 1, 0], 101),\n",
    "        np.linspace(global_bounds[0, 0, 1], global_bounds[0, 1, 1], 101),\n",
    "        out,\n",
    "        norm=colors.LogNorm(),\n",
    "        levels=[10 ** (n / 5) for n in range(min_level, max_level, 1)]\n",
    "    )\n",
    "\n",
    "# add colorbar to the plot\n",
    "fig.colorbar(c, ax=ax1)\n",
    "\n",
    "# plot the sets and sample paths\n",
    "ax1.set_xlim(global_bounds[0, :, 0])\n",
    "ax1.set_ylim(global_bounds[0, :, 1])\n",
    "\n",
    "# plot the initial set\n",
    "for i in range(initial_bounds.shape[0]):\n",
    "    ax1.add_patch(Rectangle(initial_bounds[i, 0, :], *(initial_bounds[i, 1, :] - initial_bounds[i, 0, :]),\n",
    "                            edgecolor='yellow',\n",
    "                            facecolor='none',\n",
    "                            lw=2))\n",
    "\n",
    "# plot the target set\n",
    "for i in range(target_bounds.shape[0]):\n",
    "    ax1.add_patch(Rectangle(target_bounds[i, 0, :], *(target_bounds[i, 1, :] - target_bounds[i, 0, :]),\n",
    "                            edgecolor='limegreen',\n",
    "                            facecolor='none',\n",
    "                            lw=2))\n",
    "\n",
    "# plot the unsafe set\n",
    "for i in range(unsafe_bounds.shape[0]):\n",
    "    ax1.add_patch(Rectangle(unsafe_bounds[i, 0, :], *(unsafe_bounds[i, 1, :] - unsafe_bounds[i, 0, :]),\n",
    "                            edgecolor='red',\n",
    "                            facecolor='none',\n",
    "                            lw=2))\n",
    "\n",
    "# plot the sample paths\n",
    "path_data = sample_paths.numpy()\n",
    "ax1.plot(path_data[:, :, 0], path_data[:, :, 1],\n",
    "         color=\"white\", lw=1, alpha=0.5\n",
    "         )\n",
    "\n",
    "# finally, display the plot\n",
    "plt.show()"
   ]
  }
 ],
 "metadata": {
  "kernelspec": {
   "display_name": ".venv",
   "language": "python",
   "name": "python3"
  },
  "language_info": {
   "codemirror_mode": {
    "name": "ipython",
    "version": 3
   },
   "file_extension": ".py",
   "mimetype": "text/x-python",
   "name": "python",
   "nbconvert_exporter": "python",
   "pygments_lexer": "ipython3",
   "version": "3.14.0"
  }
 },
 "nbformat": 4,
 "nbformat_minor": 5
}
